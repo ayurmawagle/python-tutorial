{
  "nbformat": 4,
  "nbformat_minor": 0,
  "metadata": {
    "colab": {
      "provenance": [],
      "authorship_tag": "ABX9TyNRbDZ/l3GF/uCd1evDVnyM",
      "include_colab_link": true
    },
    "kernelspec": {
      "name": "python3",
      "display_name": "Python 3"
    },
    "language_info": {
      "name": "python"
    }
  },
  "cells": [
    {
      "cell_type": "markdown",
      "metadata": {
        "id": "view-in-github",
        "colab_type": "text"
      },
      "source": [
        "<a href=\"https://colab.research.google.com/github/ayurmawagle/python-tutorial/blob/master/CS50P.ipynb\" target=\"_parent\"><img src=\"https://colab.research.google.com/assets/colab-badge.svg\" alt=\"Open In Colab\"/></a>"
      ]
    },
    {
      "cell_type": "code",
      "execution_count": 17,
      "metadata": {
        "colab": {
          "base_uri": "https://localhost:8080/"
        },
        "id": "ugYEmQd55b07",
        "outputId": "66b6e1e8-d25d-4391-d29e-2f8b7b0ba352"
      },
      "outputs": [
        {
          "name": "stdout",
          "output_type": "stream",
          "text": [
            "Whats your name? ayu wagle\n"
          ]
        }
      ],
      "source": [
        "name = input(\"Whats your name? \")\n"
      ]
    },
    {
      "cell_type": "code",
      "source": [
        "name = name.strip()\n",
        "name = name.capitalize()\n"
      ],
      "metadata": {
        "id": "n3Cw9pEp5v8X"
      },
      "execution_count": 14,
      "outputs": []
    },
    {
      "cell_type": "code",
      "source": [
        "name = name.strip().title()"
      ],
      "metadata": {
        "id": "PR7efYVs6XMJ"
      },
      "execution_count": 18,
      "outputs": []
    },
    {
      "cell_type": "code",
      "source": [
        "print(f\"hello, {name}\")"
      ],
      "metadata": {
        "colab": {
          "base_uri": "https://localhost:8080/"
        },
        "id": "MeUly9GS6Hoc",
        "outputId": "6f4c9d4c-032d-4e54-a85c-40cff51ca9bc"
      },
      "execution_count": 19,
      "outputs": [
        {
          "output_type": "stream",
          "name": "stdout",
          "text": [
            "hello, Ayu Wagle\n"
          ]
        }
      ]
    },
    {
      "cell_type": "code",
      "source": [
        "name = input(\"Whats your name? \").strip().title()\n",
        "print(f\"hello, {name}\")"
      ],
      "metadata": {
        "colab": {
          "base_uri": "https://localhost:8080/"
        },
        "id": "sl2Z0oMB6IIB",
        "outputId": "135ed485-5615-4b45-8736-570a69bdf086"
      },
      "execution_count": 20,
      "outputs": [
        {
          "output_type": "stream",
          "name": "stdout",
          "text": [
            "Whats your name? ayu ghimire\n",
            "hello, Ayu Ghimire\n"
          ]
        }
      ]
    },
    {
      "cell_type": "code",
      "source": [
        "# Interger manipulation\n"
      ],
      "metadata": {
        "id": "hNN3EXsZ7k2D"
      },
      "execution_count": 22,
      "outputs": []
    },
    {
      "cell_type": "code",
      "source": [
        "x = input(\"enter first number: \")\n",
        "y = input(\"enter second number: \")\n",
        "\n",
        "z = int(x) + int(y)\n",
        "\n",
        "print(z)"
      ],
      "metadata": {
        "colab": {
          "base_uri": "https://localhost:8080/"
        },
        "id": "kUeSFPpA8488",
        "outputId": "c7b285f0-fe80-4ec9-f9e6-23523a1ae100"
      },
      "execution_count": 25,
      "outputs": [
        {
          "output_type": "stream",
          "name": "stdout",
          "text": [
            "enter first number: 5\n",
            "enter second number: 5\n",
            "10\n"
          ]
        }
      ]
    },
    {
      "cell_type": "code",
      "source": [],
      "metadata": {
        "id": "6G_D--CK9IZa"
      },
      "execution_count": null,
      "outputs": []
    }
  ]
}