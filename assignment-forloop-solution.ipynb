{
 "cells": [
  {
   "cell_type": "markdown",
   "metadata": {},
   "source": [
    "### Question No. 1\n",
    "For the given list, \n",
    "```python\n",
    "[1,2,3,4,5,6,7,8,9,10]\n",
    "```\n",
    "update the even indices to 10,12,14,16,18,20. \n",
    "The output list should look like:\n",
    "\n",
    "```python\n",
    "[10,2,12,4,14,6,16,8,18,10] \n",
    "```"
   ]
  },
  {
   "cell_type": "code",
   "execution_count": 43,
   "metadata": {},
   "outputs": [
    {
     "data": {
      "text/plain": [
       "[10, 2, 12, 4, 14, 6, 16, 8, 18, 10]"
      ]
     },
     "execution_count": 43,
     "metadata": {},
     "output_type": "execute_result"
    }
   ],
   "source": [
    "original_list = [1,2,3,4,5,6,7,8,9,10]\n",
    "index = 0\n",
    "initial_value = 10\n",
    "for i in original_list[::2]:\n",
    "    original_list[index] = initial_value\n",
    "    index += 2\n",
    "    initial_value += 2\n",
    "    \n",
    "original_list\n",
    "    \n",
    "    \n",
    "    "
   ]
  },
  {
   "cell_type": "markdown",
   "metadata": {},
   "source": [
    "### Question No.2\n",
    "For the given tuple \n",
    "```python\n",
    "(1,2,3,4,5,6,7,8,9,10) \n",
    "```\n",
    "1.Print the first five elements.\n",
    "2.Print the last five elements."
   ]
  },
  {
   "cell_type": "code",
   "execution_count": 31,
   "metadata": {},
   "outputs": [
    {
     "name": "stdout",
     "output_type": "stream",
     "text": [
      "(1, 2, 3, 4, 5)\n",
      "(6, 7, 8, 9, 10)\n"
     ]
    }
   ],
   "source": [
    "tuple_a = (1,2,3,4,5,6,7,8,9,10) \n",
    "print(tuple_a[:5])\n",
    "print(tuple_a[-5:])\n"
   ]
  },
  {
   "cell_type": "markdown",
   "metadata": {},
   "source": [
    "\n",
    "### Question No.3\n",
    "Given the list:\n",
    "```python\n",
    "['paritosh','sharma','ghimire']\n",
    "```\n",
    "Use the elements of the list an print the following: \n",
    "```python\n",
    "'my name is paritosh sharma ghimire.'\n",
    "```\n"
   ]
  },
  {
   "cell_type": "code",
   "execution_count": 33,
   "metadata": {},
   "outputs": [
    {
     "name": "stdout",
     "output_type": "stream",
     "text": [
      "My name is paritosh sharma ghimire.\n"
     ]
    }
   ],
   "source": [
    "full_name = ['paritosh','sharma','ghimire']\n",
    "print('My name is {} {} {}.'.format(full_name[0],full_name[1], full_name[2]))"
   ]
  },
  {
   "cell_type": "markdown",
   "metadata": {},
   "source": [
    "\n",
    "### Question No.4\n",
    "\n",
    "Use the list in Question No.1 and for every elements of list print its index and values. \n",
    "The output should look like this \n",
    "```python\n",
    "index[0]: 1\n",
    " ```\n"
   ]
  },
  {
   "cell_type": "code",
   "execution_count": 35,
   "metadata": {},
   "outputs": [
    {
     "name": "stdout",
     "output_type": "stream",
     "text": [
      "index[0]: 1\n",
      "index[1]: 2\n",
      "index[2]: 3\n",
      "index[3]: 4\n",
      "index[4]: 5\n",
      "index[5]: 6\n",
      "index[6]: 7\n",
      "index[7]: 8\n",
      "index[8]: 9\n",
      "index[9]: 10\n"
     ]
    }
   ],
   "source": [
    "original_list = [1,2,3,4,5,6,7,8,9,10]\n",
    "\n",
    "for index,value in enumerate(original_list):\n",
    "    print('index[{}]: {}'.format(index,value))\n",
    "    "
   ]
  },
  {
   "cell_type": "code",
   "execution_count": null,
   "metadata": {},
   "outputs": [],
   "source": []
  }
 ],
 "metadata": {
  "kernelspec": {
   "display_name": "Python 3",
   "language": "python",
   "name": "python3"
  },
  "language_info": {
   "codemirror_mode": {
    "name": "ipython",
    "version": 3
   },
   "file_extension": ".py",
   "mimetype": "text/x-python",
   "name": "python",
   "nbconvert_exporter": "python",
   "pygments_lexer": "ipython3",
   "version": "3.8.0"
  }
 },
 "nbformat": 4,
 "nbformat_minor": 4
}
