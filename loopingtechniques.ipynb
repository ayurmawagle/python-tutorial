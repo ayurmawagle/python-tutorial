{
 "cells": [
  {
   "cell_type": "markdown",
   "metadata": {},
   "source": [
    "```python\n",
    "a = 'building stronger brands'\n",
    "```\n",
    "output : 'building regnorts brands'\n"
   ]
  },
  {
   "cell_type": "code",
   "execution_count": 20,
   "metadata": {},
   "outputs": [
    {
     "name": "stdout",
     "output_type": "stream",
     "text": [
      "['building', 'stronger', 'brands']\n",
      "building regnorts brands\n"
     ]
    }
   ],
   "source": [
    "a = 'building stronger brands'\n",
    "split_list = a.split(' ')\n",
    "print(split_list)\n",
    "split_list[1] = split_list[1][::-1]\n",
    "\n",
    "print(f'{split_list[0]} {split_list[1]} {split_list[2]}')\n"
   ]
  },
  {
   "cell_type": "markdown",
   "metadata": {},
   "source": [
    "### Question 2\n",
    "```python\n",
    "a = '1,2,3,4,5,6,7,8,9,10,11,12,13,14'\n",
    "```\n",
    "OUTPUT: [1,2,3,4,5,6,7,8,9,10,11,12,13,14]"
   ]
  },
  {
   "cell_type": "code",
   "execution_count": 97,
   "metadata": {},
   "outputs": [
    {
     "name": "stdout",
     "output_type": "stream",
     "text": [
      "['0', '1', '2', '3', '4', '5', '6', '7', '8', '9', '10', '11', '12', '13']\n"
     ]
    }
   ],
   "source": [
    "a = '0,1,2,3,4,5,6,7,8,9,10,11,12,13'\n",
    "b = []\n",
    "\n",
    "if a[0] != ',' and a[0] != ' ':\n",
    "    b.append(a[0])\n",
    "for i,j in enumerate(a):\n",
    "    try:\n",
    "        if a[i] != ',' and a[i+1] == ',' and a[i-1] == ',':\n",
    "            b.append(a[i])\n",
    "        if a[i] != ',' and a[i+1] != ',':\n",
    "            c = a[i] + a[i+1]\n",
    "            b.append(c)\n",
    "    except:\n",
    "        pass\n",
    "        \n",
    "print(b)"
   ]
  },
  {
   "cell_type": "code",
   "execution_count": null,
   "metadata": {},
   "outputs": [],
   "source": []
  }
 ],
 "metadata": {
  "kernelspec": {
   "display_name": "Python 3",
   "language": "python",
   "name": "python3"
  },
  "language_info": {
   "codemirror_mode": {
    "name": "ipython",
    "version": 3
   },
   "file_extension": ".py",
   "mimetype": "text/x-python",
   "name": "python",
   "nbconvert_exporter": "python",
   "pygments_lexer": "ipython3",
   "version": "3.8.0"
  }
 },
 "nbformat": 4,
 "nbformat_minor": 4
}
